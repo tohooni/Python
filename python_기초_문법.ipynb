{
  "nbformat": 4,
  "nbformat_minor": 0,
  "metadata": {
    "colab": {
      "name": "python_기초_문법.ipynb",
      "provenance": [],
      "collapsed_sections": [],
      "authorship_tag": "ABX9TyP3PRIfHelqpb50pwgri6Oj",
      "include_colab_link": true
    },
    "kernelspec": {
      "name": "python3",
      "display_name": "Python 3"
    },
    "accelerator": "GPU"
  },
  "cells": [
    {
      "cell_type": "markdown",
      "metadata": {
        "id": "view-in-github",
        "colab_type": "text"
      },
      "source": [
        "<a href=\"https://colab.research.google.com/github/tohooni/Python/blob/master/python_%EA%B8%B0%EC%B4%88_%EB%AC%B8%EB%B2%95.ipynb\" target=\"_parent\"><img src=\"https://colab.research.google.com/assets/colab-badge.svg\" alt=\"Open In Colab\"/></a>"
      ]
    },
    {
      "cell_type": "code",
      "metadata": {
        "id": "xUh3W1r3EiO4",
        "colab_type": "code",
        "colab": {
          "base_uri": "https://localhost:8080/",
          "height": 35
        },
        "outputId": "80673834-8a6c-4d53-f74e-536cd0b5213e"
      },
      "source": [
        "a = 10\n",
        "def func(b):\n",
        "  c = a + b\n",
        "  return c\n",
        "print(func(10))"
      ],
      "execution_count": 1,
      "outputs": [
        {
          "output_type": "stream",
          "text": [
            "20\n"
          ],
          "name": "stdout"
        }
      ]
    },
    {
      "cell_type": "code",
      "metadata": {
        "id": "CHJbeCs-OBuY",
        "colab_type": "code",
        "colab": {
          "base_uri": "https://localhost:8080/",
          "height": 35
        },
        "outputId": "cb6f2e56-f180-4c5d-ca34-49a5010933ed"
      },
      "source": [
        "# _*_ coding: utf-8 _*_\n",
        "print(\"\\\"안녕\\\" 파이썬\")"
      ],
      "execution_count": 7,
      "outputs": [
        {
          "output_type": "stream",
          "text": [
            "\"안녕\" 파이썬\n"
          ],
          "name": "stdout"
        }
      ]
    },
    {
      "cell_type": "code",
      "metadata": {
        "id": "sPeErQclO7jF",
        "colab_type": "code",
        "colab": {}
      },
      "source": [
        "a = \"HELLO WORLD\""
      ],
      "execution_count": 0,
      "outputs": []
    },
    {
      "cell_type": "code",
      "metadata": {
        "id": "lEcxyzKjR2n7",
        "colab_type": "code",
        "colab": {
          "base_uri": "https://localhost:8080/",
          "height": 35
        },
        "outputId": "a183c298-ab46-4e69-ba93-c703e59110e7"
      },
      "source": [
        "print(a[0:7:2])"
      ],
      "execution_count": 12,
      "outputs": [
        {
          "output_type": "stream",
          "text": [
            "HLOW\n"
          ],
          "name": "stdout"
        }
      ]
    },
    {
      "cell_type": "code",
      "metadata": {
        "id": "cFhbdPiYR5oa",
        "colab_type": "code",
        "colab": {
          "base_uri": "https://localhost:8080/",
          "height": 35
        },
        "outputId": "6e40cb06-cdcb-4eb2-c409-5419b32815d9"
      },
      "source": [
        "a.replace(\"HELLO\",\"HI\")"
      ],
      "execution_count": 15,
      "outputs": [
        {
          "output_type": "execute_result",
          "data": {
            "text/plain": [
              "'HI WORLD'"
            ]
          },
          "metadata": {
            "tags": []
          },
          "execution_count": 15
        }
      ]
    },
    {
      "cell_type": "code",
      "metadata": {
        "id": "PWmw0FlTS5k6",
        "colab_type": "code",
        "colab": {
          "base_uri": "https://localhost:8080/",
          "height": 35
        },
        "outputId": "91aba0bf-42d9-4355-b836-98ae6cb1bf8a"
      },
      "source": [
        "a.count('L')"
      ],
      "execution_count": 16,
      "outputs": [
        {
          "output_type": "execute_result",
          "data": {
            "text/plain": [
              "3"
            ]
          },
          "metadata": {
            "tags": []
          },
          "execution_count": 16
        }
      ]
    },
    {
      "cell_type": "code",
      "metadata": {
        "id": "Ot6qoKeTTdBK",
        "colab_type": "code",
        "colab": {
          "base_uri": "https://localhost:8080/",
          "height": 35
        },
        "outputId": "d062220c-1424-43ea-ca05-7e8821d7cd85"
      },
      "source": [
        "a.find('E')"
      ],
      "execution_count": 17,
      "outputs": [
        {
          "output_type": "execute_result",
          "data": {
            "text/plain": [
              "1"
            ]
          },
          "metadata": {
            "tags": []
          },
          "execution_count": 17
        }
      ]
    },
    {
      "cell_type": "code",
      "metadata": {
        "id": "DVjKBxxHThwv",
        "colab_type": "code",
        "colab": {
          "base_uri": "https://localhost:8080/",
          "height": 35
        },
        "outputId": "a08e83b6-ab5d-4d46-f0e7-5d5ec797a25a"
      },
      "source": [
        "a.strip(\"WORLD\")"
      ],
      "execution_count": 18,
      "outputs": [
        {
          "output_type": "execute_result",
          "data": {
            "text/plain": [
              "'HELLO '"
            ]
          },
          "metadata": {
            "tags": []
          },
          "execution_count": 18
        }
      ]
    },
    {
      "cell_type": "code",
      "metadata": {
        "id": "ToTLw0U7T28c",
        "colab_type": "code",
        "colab": {
          "base_uri": "https://localhost:8080/",
          "height": 35
        },
        "outputId": "dd3d732e-7764-4300-ccef-cf9b9a6abf31"
      },
      "source": [
        "a.zfill(20)"
      ],
      "execution_count": 21,
      "outputs": [
        {
          "output_type": "execute_result",
          "data": {
            "text/plain": [
              "'000000000HELLO WORLD'"
            ]
          },
          "metadata": {
            "tags": []
          },
          "execution_count": 21
        }
      ]
    },
    {
      "cell_type": "code",
      "metadata": {
        "id": "RZC4LK1hUXKV",
        "colab_type": "code",
        "colab": {}
      },
      "source": [
        "a = 10\n",
        "b = 3"
      ],
      "execution_count": 0,
      "outputs": []
    },
    {
      "cell_type": "code",
      "metadata": {
        "id": "j6BChNi1de6J",
        "colab_type": "code",
        "colab": {
          "base_uri": "https://localhost:8080/",
          "height": 35
        },
        "outputId": "b12d3f79-adb8-4bef-897c-2a5c9815a591"
      },
      "source": [
        "print(b ** 2)"
      ],
      "execution_count": 29,
      "outputs": [
        {
          "output_type": "stream",
          "text": [
            "9\n"
          ],
          "name": "stdout"
        }
      ]
    },
    {
      "cell_type": "code",
      "metadata": {
        "id": "ary8Y5FAduQ_",
        "colab_type": "code",
        "colab": {
          "base_uri": "https://localhost:8080/",
          "height": 107
        },
        "outputId": "00d19b97-e14a-4c8c-eab1-df23bc18fe6c"
      },
      "source": [
        "#외부 입력값 받기\n",
        "a = input().split(' ')\n",
        "x = int(a[0])\n",
        "y = int(a[1])\n",
        "print(\"x + y =\", x + y)\n",
        "print(\"x * y =\", x * y)\n",
        "print(\"x - y =\", x - y)\n",
        "print(\"x / y =\", x / y)\n"
      ],
      "execution_count": 33,
      "outputs": [
        {
          "output_type": "stream",
          "text": [
            "3 7\n",
            "x + y = 10\n",
            "x * y = 21\n",
            "x - y = -4\n",
            "x / y = 0.42857142857142855\n"
          ],
          "name": "stdout"
        }
      ]
    },
    {
      "cell_type": "code",
      "metadata": {
        "id": "klZnCQIRejzU",
        "colab_type": "code",
        "colab": {
          "base_uri": "https://localhost:8080/",
          "height": 161
        },
        "outputId": "b1119309-1ed0-4771-c407-9328c25c37f6"
      },
      "source": [
        "#List 강좌\n",
        "#비슷한 성질을 가진 객체의 나열\n",
        "a = [3.5, 4.3, 2.3, 3.8, 3.2, 4.5]\n",
        "\n",
        "print(a)\n",
        "print(a[1])\n",
        "print(a[1:3])\n",
        "print(a[:-1])\n",
        "print(a[2:-1])\n",
        "\n",
        "sum = 0\n",
        "for i in a:\n",
        "  sum = sum + i\n",
        "print('평균 : ', sum / len(a))\n",
        "\n",
        "#2차원 배열\n",
        "b = [\n",
        "     [90,95,83,40,30,20,19,48,39,59]\n",
        "     ,[48,53,64,76,58,34,55,85,96,85]\n",
        "    ]\n",
        "\n",
        "sum = 0\n",
        "english = b[0]\n",
        "for i in english:\n",
        "  sum = sum + i\n",
        "print(\"영어 평균 점수 : \", sum / len(english))\n",
        "\n",
        "sum = 0\n",
        "math = b[1]\n",
        "for j in math:\n",
        "  sum = sum + j\n",
        "print(\"수학 평균 점수 : \", sum / len(math))"
      ],
      "execution_count": 59,
      "outputs": [
        {
          "output_type": "stream",
          "text": [
            "[3.5, 4.3, 2.3, 3.8, 3.2, 4.5]\n",
            "4.3\n",
            "[4.3, 2.3]\n",
            "[3.5, 4.3, 2.3, 3.8, 3.2]\n",
            "[2.3, 3.8, 3.2]\n",
            "평균 :  3.5999999999999996\n",
            "영어 평균 점수 :  52.3\n",
            "수학 평균 점수 :  65.4\n"
          ],
          "name": "stdout"
        }
      ]
    },
    {
      "cell_type": "code",
      "metadata": {
        "id": "VNUpHo5ijJy_",
        "colab_type": "code",
        "colab": {
          "base_uri": "https://localhost:8080/",
          "height": 35
        },
        "outputId": "27b8c0a6-6cd8-42d4-c452-762f6c22e1ca"
      },
      "source": [
        "#조건문\n",
        "\n",
        "list = [1,2,3]\n",
        "if 2 in list:\n",
        "  print(\"2가 포함됨.\")\n"
      ],
      "execution_count": 60,
      "outputs": [
        {
          "output_type": "stream",
          "text": [
            "2가 포함됨.\n"
          ],
          "name": "stdout"
        }
      ]
    },
    {
      "cell_type": "code",
      "metadata": {
        "id": "18KcRq-Ejm0R",
        "colab_type": "code",
        "colab": {
          "base_uri": "https://localhost:8080/",
          "height": 179
        },
        "outputId": "5568b8f4-fa62-48d3-a86b-b23a38283f54"
      },
      "source": [
        "#튜플\n",
        "#한번 입력된 값을 변경되지 않는다.\n",
        "tuple =(1,2,3)\n",
        "\n",
        "print(tuple)\n",
        "print(tuple[1])\n",
        "for i in tuple:\n",
        "  print(i)\n",
        "\n",
        "list1 = [1,2,3]\n",
        "list2 = [3,4,5]\n",
        "tuple = (list1, list2)\n",
        "print(tuple)\n",
        "print(tuple[0])\n",
        "print(tuple[0][1])\n",
        "print(tuple[0][:-1])"
      ],
      "execution_count": 69,
      "outputs": [
        {
          "output_type": "stream",
          "text": [
            "(1, 2, 3)\n",
            "2\n",
            "1\n",
            "2\n",
            "3\n",
            "([1, 2, 3], [3, 4, 5])\n",
            "[1, 2, 3]\n",
            "2\n",
            "[1, 2]\n"
          ],
          "name": "stdout"
        }
      ]
    },
    {
      "cell_type": "code",
      "metadata": {
        "id": "g06J5cswrZbc",
        "colab_type": "code",
        "colab": {
          "base_uri": "https://localhost:8080/",
          "height": 71
        },
        "outputId": "a7ffb5df-ac85-4718-f603-f15c2d2ae942"
      },
      "source": [
        "#함수\n",
        "def add(a, b):\n",
        "  print(a + b)\n",
        "add(1,2)\n",
        "\n",
        "def mul(a,b):\n",
        "  return a * b\n",
        "print(mul(3,4))\n",
        "\n",
        "#가변 인자 사용법\n",
        "def vari(*data):\n",
        "  print(data)\n",
        "vari(1,2,3,4,5)"
      ],
      "execution_count": 76,
      "outputs": [
        {
          "output_type": "stream",
          "text": [
            "3\n",
            "12\n",
            "(1, 2, 3, 4, 5)\n"
          ],
          "name": "stdout"
        }
      ]
    },
    {
      "cell_type": "code",
      "metadata": {
        "id": "GEBA7Lt1t3h6",
        "colab_type": "code",
        "colab": {
          "base_uri": "https://localhost:8080/",
          "height": 71
        },
        "outputId": "78a02626-3165-43dd-e7f7-1e565adfd525"
      },
      "source": [
        "#모듈 작성하기\n",
        "#해당 파일을 저장하고 추후에 불러와서 사용한다.\n",
        "#파일명 lib.py\n",
        "def add(a, b):\n",
        "  return a + b\n",
        "def substract(a, b):\n",
        "  return a - b\n",
        "\n",
        "#라이브러리 불러올때\n",
        "import lib as lib\n",
        "print(add(1,2))\n"
      ],
      "execution_count": 78,
      "outputs": [
        {
          "output_type": "stream",
          "text": [
            "6561.0\n",
            "8.0\n",
            "24\n"
          ],
          "name": "stdout"
        }
      ]
    },
    {
      "cell_type": "code",
      "metadata": {
        "id": "vOEMak_3vCB1",
        "colab_type": "code",
        "colab": {
          "base_uri": "https://localhost:8080/",
          "height": 71
        },
        "outputId": "414c4151-487f-4a0c-cd5f-45c568f117fa"
      },
      "source": [
        "#클래스 작성하기\n",
        "#클래스는 맴버와 함수로 구성됨.\n",
        "\n",
        "class Car:\n",
        "\n",
        "  #클래스는 생성자를 가진다.\n",
        "  def __init__(self, name, color):\n",
        "    self.name  = name  # 클래스의 멤버\n",
        "    self.color = color #클래스의 멤버\n",
        "\n",
        "  def show_info(self):\n",
        "    print(\"이름 : \", self.name, \"/ 색상 : \", self.color)\n",
        "\n",
        "car1 = Car(\"소나타\", \"빨간색\")\n",
        "car1.show_info()     \n",
        "\n",
        "car2 = Car(\"아반떼\", \"노란색\")\n",
        "car2.show_info()\n",
        "print(car2.name)\n",
        "\n",
        "#메모리상에서 인스턴스가 할당 해제됨.\n",
        "del car1\n",
        "\n"
      ],
      "execution_count": 89,
      "outputs": [
        {
          "output_type": "stream",
          "text": [
            "이름 :  소나타 / 색상 :  빨간색\n",
            "이름 :  아반떼 / 색상 :  노란색\n",
            "아반떼\n"
          ],
          "name": "stdout"
        }
      ]
    },
    {
      "cell_type": "code",
      "metadata": {
        "id": "PwSRUvk6xUOt",
        "colab_type": "code",
        "colab": {
          "base_uri": "https://localhost:8080/",
          "height": 35
        },
        "outputId": "6ba1b83e-f0f6-45ec-be8c-f92776b85296"
      },
      "source": [
        "#클래스 상속\n",
        "class Unit:\n",
        "  def __init__(self, name, power):\n",
        "    self.name = name\n",
        "    self.power = power\n",
        "\n",
        "  def attack(self):\n",
        "    print(self.name, \"이 공격을 수행합니다. [전투력 : \", self.power,\"]\")  \n",
        "\n",
        "class Monster(Unit): #Unit클래스를 상속 받는다.\n",
        "\n",
        "  def __init__(self, name, power, type):\n",
        "    self.name  = name\n",
        "    self.power = power\n",
        "    self.type  = type\n",
        "\n",
        "\n",
        "monster = Monster(\"홍길동\", 10, \"초급\")     \n",
        "monster.attack() #상속받은 Unit클래스의 attack메서드를 사용함.\n",
        "\n"
      ],
      "execution_count": 93,
      "outputs": [
        {
          "output_type": "stream",
          "text": [
            "홍길동 이 공격을 수행합니다. [전투력 :  10 ]\n"
          ],
          "name": "stdout"
        }
      ]
    },
    {
      "cell_type": "code",
      "metadata": {
        "id": "kw77tPClzyLb",
        "colab_type": "code",
        "colab": {
          "base_uri": "https://localhost:8080/",
          "height": 251
        },
        "outputId": "6f8c53b1-7a4b-4623-b833-dc427ed314d2"
      },
      "source": [
        "#사전 자료형\n",
        "dict = {}\n",
        "dict['안녕'] = 'Hello'\n",
        "dict['기적'] = 'Miracle'\n",
        "dict['노력'] = 'effort'\n",
        "dict['안녕'] = \"Hi\"\n",
        "print(dict)\n",
        "\n",
        "for i,k in enumerate(dict):\n",
        "  print(\"[인덱스:\", i ,\"] 한글:\", k, \"/ 영어:\", dict[k])\n",
        "\n",
        "#특정값 삭제\n",
        "# del dict['기적']\n",
        "# print(dict) \n",
        "\n",
        "#항목 모두삭제\n",
        "#dict.clear()\n",
        "#print(dict)\n",
        "\n",
        "#키 목록 추출\n",
        "keys = dict.keys()\n",
        "print(\"키 리스트 : \", keys)\n",
        "\n",
        "key_list = list(keys)\n",
        "print(\"키 리스트 : \", key_list)\n",
        "\n",
        "values = dict.values()\n",
        "print(\"값 리스트 : \", values)\n",
        "\n",
        "for i in dict:\n",
        "  print(\"추출 : \", i)\n",
        "\n",
        "#정렬하여하기\n",
        "print(sorted(dict))\n",
        "print(sorted(dict, reverse=True))\n",
        "print(sorted(dict.values()))\n",
        "\n",
        "\n"
      ],
      "execution_count": 18,
      "outputs": [
        {
          "output_type": "stream",
          "text": [
            "{'안녕': 'Hi', '기적': 'Miracle', '노력': 'effort'}\n",
            "[인덱스: 0 ] 한글: 안녕 / 영어: Hi\n",
            "[인덱스: 1 ] 한글: 기적 / 영어: Miracle\n",
            "[인덱스: 2 ] 한글: 노력 / 영어: effort\n",
            "키 리스트 :  dict_keys(['안녕', '기적', '노력'])\n",
            "키 리스트 :  ['안녕', '기적', '노력']\n",
            "값 리스트 :  dict_values(['Hi', 'Miracle', 'effort'])\n",
            "추출 :  안녕\n",
            "추출 :  기적\n",
            "추출 :  노력\n",
            "['기적', '노력', '안녕']\n",
            "['안녕', '노력', '기적']\n",
            "['Hi', 'Miracle', 'effort']\n"
          ],
          "name": "stdout"
        }
      ]
    },
    {
      "cell_type": "code",
      "metadata": {
        "id": "_82SnU9Xv-8L",
        "colab_type": "code",
        "colab": {
          "base_uri": "https://localhost:8080/",
          "height": 125
        },
        "outputId": "a9044091-fefc-44a9-9cfd-9e6d6923b9ed"
      },
      "source": [
        "#내장 함수\n",
        "#input() : 사용자로부터 콘솔로 입력을 받는 함수\n",
        "#int() :정수 자료형으로 변환\n",
        "#float : 문자열, 정수 등의 자료형을 실수형으로 변환\n",
        "#max(), min() : 시퀀스 자료형에 포함되어 있는 원소 중 최대값 혹은 최소값\n",
        "#bin(), hex() : 10진수 -> 2진수 변환, 10진수 -> 16진수 변환\n",
        "\n",
        "user_input = input('정수를 입력하세요 : ')\n",
        "print('제곱 : ', int(user_input) ** 2)\n",
        "a = \"12345\"\n",
        "b = 12.5\n",
        "print(a, b)\n",
        "print(int(a), int(b))\n",
        "\n",
        "#16진수를 다시 10진수로 변환\n",
        "print(int('0xe6', 16))\n",
        "\n",
        "#round함수\n",
        "print(round(123.789, 2))\n",
        "\n"
      ],
      "execution_count": 24,
      "outputs": [
        {
          "output_type": "stream",
          "text": [
            "정수를 입력하세요 : 4\n",
            "제곱 :  16\n",
            "12345 12.5\n",
            "12345 12\n",
            "230\n",
            "123.79\n"
          ],
          "name": "stdout"
        }
      ]
    },
    {
      "cell_type": "code",
      "metadata": {
        "id": "y6OW8XLzzTeM",
        "colab_type": "code",
        "colab": {
          "base_uri": "https://localhost:8080/",
          "height": 161
        },
        "outputId": "8ce0f84a-4ba3-4c28-b2fb-5c36896d9372"
      },
      "source": [
        "# 문자열 자료형 뒤집기 : 슬라이싱 활용\n",
        "# len() : 문자열의 길이를 출력\n",
        "# isalpha() : 특정한 문자열의 문자로만 이루어져 있는지 확인\n",
        "# isdigit() : 특정한 문자열이 숫자로만 이루어져 있는지\n",
        "# isalnum() : 특정한 문자열이 문자와 숫자로만 이루어져 있는지 확인.\n",
        "# join(리스트자료형) : 여러개의 문자열을 구분자와 함께 합치는 함수.\n",
        "# sorted(문자열 자료형) : 각 문자를 정렬하는 함수.\n",
        "# split(토큰) : 문자열을 토큰에 따라서 분리하는 함수\n",
        "# find(문자) : 포함된 문자열 찾기\n",
        "# strip() : 좌우로 특정한 문자열을 제거하는 함수.\n",
        "#eval() : 문자열 수식 계산해주는 함수.\n",
        "\n",
        "str = \"홍길동2\"\n",
        "print(str.isalpha())\n",
        "\n",
        "str = \"123435\"\n",
        "print(str.isdigit())\n",
        "\n",
        "str = \"abc 123\"\n",
        "print(str.isalnum())\n",
        "\n",
        "str = ['hello', 'World',' 홍길동']\n",
        "print(' '.join(str))\n",
        "\n",
        "str = \"I love you\"\n",
        "list1 = str.split(' ')\n",
        "print(list1)\n",
        "\n",
        "str = \"   Hello World  \"\n",
        "print(str.strip())\n",
        "print(str.lstrip())\n",
        "\n",
        "str = \"(203+705)*3-(30/6)\"\n",
        "print(eval(str))"
      ],
      "execution_count": 70,
      "outputs": [
        {
          "output_type": "stream",
          "text": [
            "False\n",
            "True\n",
            "False\n",
            "hello World  홍길동\n",
            "['I', 'love', 'you']\n",
            "Hello World\n",
            "Hello World  \n",
            "2719.0\n"
          ],
          "name": "stdout"
        }
      ]
    },
    {
      "cell_type": "code",
      "metadata": {
        "id": "n4bbGxj11jkL",
        "colab_type": "code",
        "colab": {
          "base_uri": "https://localhost:8080/",
          "height": 107
        },
        "outputId": "ac5e40ac-c270-4737-9512-0f904c32ead6"
      },
      "source": [
        "#index(원소) : 리스트 내 특정한 원소의 인덱스를 찾기\n",
        "# revers() : 리스트의 원소를 뒤집기\n",
        "# sum(리스트 자료형) : 리스트의 모든 원소의 합\n",
        "# range() : 특정 범위를 지정\n",
        "# all() / any() : 리스트의 모든 원소가 참인지/ 하나라도 참인지 판별\n",
        "\n",
        "list1 = ['나동빈', '강종구','이태일','박한울','이상욱']\n",
        "print(list1.index('이태일'))\n",
        "\n",
        "list1 = [1,2,3]\n",
        "list1.reverse()\n",
        "print(list1)\n",
        "print(sum(list1))\n",
        "\n",
        "str = [True, False, False]\n",
        "print(all(str))\n",
        "print(any(str))"
      ],
      "execution_count": 69,
      "outputs": [
        {
          "output_type": "stream",
          "text": [
            "2\n",
            "[3, 2, 1]\n",
            "6\n",
            "False\n",
            "True\n"
          ],
          "name": "stdout"
        }
      ]
    },
    {
      "cell_type": "code",
      "metadata": {
        "id": "wpy1YWYG4xQA",
        "colab_type": "code",
        "colab": {
          "base_uri": "https://localhost:8080/",
          "height": 107
        },
        "outputId": "9f4d4dfc-f6a8-4871-9958-da11ecee986e"
      },
      "source": [
        "#예외 처리\n",
        "\n",
        "try:\n",
        "  print(3/2)\n",
        "except:\n",
        "  print(\"0 으로 나눌수 없습니다.\")\n",
        "else:\n",
        "  print('정상')\n",
        "finally:\n",
        "  print(\"예외 처리 완료\")\n",
        "\n",
        "\n",
        "try:\n",
        "  print(3/0)\n",
        "except Exception as e:\n",
        "  print(e)\n",
        "finally:\n",
        "  print(\"예외 처리 완료\")"
      ],
      "execution_count": 64,
      "outputs": [
        {
          "output_type": "stream",
          "text": [
            "1.5\n",
            "정상\n",
            "예외 처리 완료\n",
            "division by zero\n",
            "예외 처리 완료\n"
          ],
          "name": "stdout"
        }
      ]
    },
    {
      "cell_type": "code",
      "metadata": {
        "id": "QZFqh0mS7SOM",
        "colab_type": "code",
        "colab": {
          "base_uri": "https://localhost:8080/",
          "height": 53
        },
        "outputId": "b3c3314d-07af-4501-fe96-6f2545de567d"
      },
      "source": [
        "#람다식 : 함수의 형태를 더욱 짦게 쓸 수 있도록 해주는 문법\n",
        "add = lambda x, y : x + y\n",
        "print(add(1,2))\n",
        "\n",
        "# map() : 다수의 원소에 대한 함수의 결과를 한번에 얻을 수 있도록 도와줌.\n",
        "list1 = [1,2,3,4,5]\n",
        "list2 = [6,7,8,9,10]\n",
        "my_function = lambda a, b : a+b\n",
        "result = map(my_function, list1, list2)\n",
        "print(list(result))"
      ],
      "execution_count": 1,
      "outputs": [
        {
          "output_type": "stream",
          "text": [
            "3\n",
            "[7, 9, 11, 13, 15]\n"
          ],
          "name": "stdout"
        }
      ]
    },
    {
      "cell_type": "code",
      "metadata": {
        "id": "qKxkSkuQ8X-l",
        "colab_type": "code",
        "colab": {
          "base_uri": "https://localhost:8080/",
          "height": 244
        },
        "outputId": "5648cefc-947b-4f13-b8dd-daa3e6d8a67a"
      },
      "source": [
        "#파일 입출력\n",
        "# open() : 파일을 특정한 모드로 여는 함수 읽을때 r, 쓸때 w\n",
        "# read() : 파일 객체로부터 모든 내용을 읽는 함수 입니다.\n",
        "# readline() : 파일 개체로부터 한 줄씩 문자열을 읽는 함수 입니다.\n",
        "# readlines() : 전체 내용을 한 번에 리스트 담는 함수 입니다.\n",
        "\n",
        "f = open(\"input.txt\", \"r\", encoding=\"UTF-8\")\n",
        "data = f.read()\n",
        "print(data)\n",
        "\n",
        "#\n",
        "f.seek(9)\n",
        "data = f.read()\n",
        "\n",
        "#한줄씩 읽어들이기\n",
        "count = 0\n",
        "while count < 3:\n",
        "  data = f.readline()\n",
        "  count = count + 1\n",
        "  print(\"%d번째 줄 : %s\" %(count, data), end='')\n",
        "\n",
        "#전체를 읽어 와서 리스트에 담아서 처리하는 방식\n",
        "list1 = f.readlines()\n",
        "for i, data in enumerate(list1):\n",
        "  print(\"%d번째 줄 :%s\" %(i + 1, data), end='')\n",
        "\n",
        "f.close()\n",
        "\n",
        "\n"
      ],
      "execution_count": 23,
      "outputs": [
        {
          "output_type": "error",
          "ename": "FileNotFoundError",
          "evalue": "ignored",
          "traceback": [
            "\u001b[0;31m---------------------------------------------------------------------------\u001b[0m",
            "\u001b[0;31mFileNotFoundError\u001b[0m                         Traceback (most recent call last)",
            "\u001b[0;32m<ipython-input-23-a060f9d02ed3>\u001b[0m in \u001b[0;36m<module>\u001b[0;34m()\u001b[0m\n\u001b[1;32m      1\u001b[0m \u001b[0;34m\u001b[0m\u001b[0m\n\u001b[0;32m----> 2\u001b[0;31m \u001b[0mf\u001b[0m \u001b[0;34m=\u001b[0m \u001b[0mopen\u001b[0m\u001b[0;34m(\u001b[0m\u001b[0;34m\"content/input2.txt\"\u001b[0m\u001b[0;34m,\u001b[0m \u001b[0;34m\"r\"\u001b[0m\u001b[0;34m,\u001b[0m \u001b[0mencoding\u001b[0m\u001b[0;34m=\u001b[0m\u001b[0;34m\"UTF-8\"\u001b[0m\u001b[0;34m)\u001b[0m\u001b[0;34m\u001b[0m\u001b[0;34m\u001b[0m\u001b[0m\n\u001b[0m\u001b[1;32m      3\u001b[0m \u001b[0mdata\u001b[0m \u001b[0;34m=\u001b[0m \u001b[0mf\u001b[0m\u001b[0;34m.\u001b[0m\u001b[0mread\u001b[0m\u001b[0;34m(\u001b[0m\u001b[0;34m)\u001b[0m\u001b[0;34m\u001b[0m\u001b[0;34m\u001b[0m\u001b[0m\n\u001b[1;32m      4\u001b[0m \u001b[0mprint\u001b[0m\u001b[0;34m(\u001b[0m\u001b[0mdata\u001b[0m\u001b[0;34m)\u001b[0m\u001b[0;34m\u001b[0m\u001b[0;34m\u001b[0m\u001b[0m\n\u001b[1;32m      5\u001b[0m \u001b[0;34m\u001b[0m\u001b[0m\n",
            "\u001b[0;31mFileNotFoundError\u001b[0m: [Errno 2] No such file or directory: 'content/input2.txt'"
          ]
        }
      ]
    },
    {
      "cell_type": "code",
      "metadata": {
        "id": "ehCoBvFG-6K5",
        "colab_type": "code",
        "colab": {
          "base_uri": "https://localhost:8080/",
          "height": 46
        },
        "outputId": "8b138dd8-d7b4-4292-93cd-a34024ee966f"
      },
      "source": [
        "!pwd"
      ],
      "execution_count": 3,
      "outputs": [
        {
          "output_type": "stream",
          "text": [
            "/content\n"
          ],
          "name": "stdout"
        }
      ]
    },
    {
      "cell_type": "code",
      "metadata": {
        "id": "wRTwvQCD-7uz",
        "colab_type": "code",
        "colab": {
          "base_uri": "https://localhost:8080/",
          "height": 89
        },
        "outputId": "304a7013-2464-4145-e057-ecf47d34cb1d"
      },
      "source": [
        "!ls -al"
      ],
      "execution_count": 27,
      "outputs": [
        {
          "output_type": "stream",
          "text": [
            "total 12\n",
            "drwxr-xr-x 3 root root 4096 Jan 16 11:00 .\n",
            "drwxr-xr-x 1 root root 4096 Jan 16 11:00 ..\n",
            "drwxr-xr-x 2 root root 4096 Jan 16 11:00 input2.txt\n"
          ],
          "name": "stdout"
        }
      ]
    },
    {
      "cell_type": "code",
      "metadata": {
        "id": "wmCGEtpX-9xo",
        "colab_type": "code",
        "colab": {
          "base_uri": "https://localhost:8080/",
          "height": 46
        },
        "outputId": "972c8ccf-fc7c-4099-8a0e-3b69b996e400"
      },
      "source": [
        "!cd smaple_data\n"
      ],
      "execution_count": 6,
      "outputs": [
        {
          "output_type": "stream",
          "text": [
            "/bin/bash: line 0: cd: smaple_data: No such file or directory\n"
          ],
          "name": "stdout"
        }
      ]
    },
    {
      "cell_type": "code",
      "metadata": {
        "id": "K2y5tuBd_gdB",
        "colab_type": "code",
        "colab": {
          "base_uri": "https://localhost:8080/",
          "height": 46
        },
        "outputId": "7014db74-53bf-4980-e9bd-c45218244084"
      },
      "source": [
        "!vi input.txt"
      ],
      "execution_count": 7,
      "outputs": [
        {
          "output_type": "stream",
          "text": [
            "/bin/bash: vi: command not found\n"
          ],
          "name": "stdout"
        }
      ]
    },
    {
      "cell_type": "code",
      "metadata": {
        "id": "fMRZa8UnBBWy",
        "colab_type": "code",
        "colab": {}
      },
      "source": [
        "!cd ../"
      ],
      "execution_count": 0,
      "outputs": []
    },
    {
      "cell_type": "code",
      "metadata": {
        "id": "ejSCk_MnBilI",
        "colab_type": "code",
        "colab": {}
      },
      "source": [
        ""
      ],
      "execution_count": 0,
      "outputs": []
    }
  ]
}